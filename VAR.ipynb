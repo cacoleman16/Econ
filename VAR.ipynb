{
 "nbformat": 4,
 "nbformat_minor": 2,
 "metadata": {
  "language_info": {
   "name": "python",
   "codemirror_mode": {
    "name": "ipython",
    "version": 3
   },
   "version": "3.7.3-final"
  },
  "orig_nbformat": 2,
  "file_extension": ".py",
  "mimetype": "text/x-python",
  "name": "python",
  "npconvert_exporter": "python",
  "pygments_lexer": "ipython3",
  "version": 3,
  "kernelspec": {
   "name": "python37364bitbaseconda47aaf4bb18ea4273990f9a81b332d40b",
   "display_name": "Python 3.7.3 64-bit ('base': conda)"
  }
 },
 "cells": [
  {
   "cell_type": "code",
   "execution_count": 15,
   "metadata": {},
   "outputs": [],
   "source": [
    "import pandas as pd\n",
    "import numpy as np \n",
    "df = pd.read_excel('/Users/chase/Downloads/bpdata.xlsx')"
   ]
  },
  {
   "cell_type": "code",
   "execution_count": 16,
   "metadata": {},
   "outputs": [
    {
     "data": {
      "text/html": "<div>\n<style scoped>\n    .dataframe tbody tr th:only-of-type {\n        vertical-align: middle;\n    }\n\n    .dataframe tbody tr th {\n        vertical-align: top;\n    }\n\n    .dataframe thead th {\n        text-align: right;\n    }\n</style>\n<table border=\"1\" class=\"dataframe\">\n  <thead>\n    <tr style=\"text-align: right;\">\n      <th></th>\n      <th>date</th>\n      <th>y</th>\n      <th>t</th>\n      <th>g</th>\n      <th>trend</th>\n      <th>trend2</th>\n      <th>dum75q2</th>\n      <th>rrtaxu</th>\n    </tr>\n  </thead>\n  <tbody>\n    <tr>\n      <th>0</th>\n      <td>1950-01-01</td>\n      <td>-428.265747</td>\n      <td>-1081.332153</td>\n      <td>-1117.348755</td>\n      <td>1</td>\n      <td>1</td>\n      <td>0</td>\n      <td>0.0</td>\n    </tr>\n    <tr>\n      <th>1</th>\n      <td>1950-04-01</td>\n      <td>-425.807556</td>\n      <td>-1072.665527</td>\n      <td>-1116.824219</td>\n      <td>2</td>\n      <td>4</td>\n      <td>0</td>\n      <td>0.0</td>\n    </tr>\n    <tr>\n      <th>2</th>\n      <td>1950-07-01</td>\n      <td>-422.493561</td>\n      <td>-1062.218994</td>\n      <td>-1121.543823</td>\n      <td>3</td>\n      <td>9</td>\n      <td>0</td>\n      <td>0.0</td>\n    </tr>\n    <tr>\n      <th>3</th>\n      <td>1950-10-01</td>\n      <td>-421.014496</td>\n      <td>-1055.743774</td>\n      <td>-1112.510742</td>\n      <td>4</td>\n      <td>16</td>\n      <td>0</td>\n      <td>0.0</td>\n    </tr>\n    <tr>\n      <th>4</th>\n      <td>1951-01-01</td>\n      <td>-420.063110</td>\n      <td>-1046.365845</td>\n      <td>-1094.527344</td>\n      <td>5</td>\n      <td>25</td>\n      <td>0</td>\n      <td>0.0</td>\n    </tr>\n  </tbody>\n</table>\n</div>",
      "text/plain": "        date           y            t            g  trend  trend2  dum75q2  \\\n0 1950-01-01 -428.265747 -1081.332153 -1117.348755      1       1        0   \n1 1950-04-01 -425.807556 -1072.665527 -1116.824219      2       4        0   \n2 1950-07-01 -422.493561 -1062.218994 -1121.543823      3       9        0   \n3 1950-10-01 -421.014496 -1055.743774 -1112.510742      4      16        0   \n4 1951-01-01 -420.063110 -1046.365845 -1094.527344      5      25        0   \n\n   rrtaxu  \n0     0.0  \n1     0.0  \n2     0.0  \n3     0.0  \n4     0.0  "
     },
     "execution_count": 16,
     "metadata": {},
     "output_type": "execute_result"
    }
   ],
   "source": [
    "df.head()"
   ]
  },
  {
   "cell_type": "code",
   "execution_count": 17,
   "metadata": {},
   "outputs": [],
   "source": [
    "df.index = df.date\n",
    "df.index = pd.to_datetime(df.index)"
   ]
  },
  {
   "cell_type": "code",
   "execution_count": 18,
   "metadata": {},
   "outputs": [],
   "source": [
    "def gen_lags(df, variable, number_of_lags):\n",
    "    lag = 1\n",
    "    while lag < number_of_lags + 1:\n",
    "        df[str(variable) + '-' +str(lag)] = df[str(variable)].shift(lag)\n",
    "        lag +=1\n",
    "    return df\n",
    "        \n",
    "\n"
   ]
  },
  {
   "cell_type": "code",
   "execution_count": 19,
   "metadata": {},
   "outputs": [],
   "source": [
    "variables = ['y', 't', 'g']\n",
    "\n",
    "for variable in variables:\n",
    "    gen_lags(df, variable, 4)"
   ]
  },
  {
   "cell_type": "code",
   "execution_count": 20,
   "metadata": {},
   "outputs": [
    {
     "data": {
      "text/html": "<div>\n<style scoped>\n    .dataframe tbody tr th:only-of-type {\n        vertical-align: middle;\n    }\n\n    .dataframe tbody tr th {\n        vertical-align: top;\n    }\n\n    .dataframe thead th {\n        text-align: right;\n    }\n</style>\n<table border=\"1\" class=\"dataframe\">\n  <thead>\n    <tr style=\"text-align: right;\">\n      <th></th>\n      <th>date</th>\n      <th>y</th>\n      <th>t</th>\n      <th>g</th>\n      <th>trend</th>\n      <th>trend2</th>\n      <th>dum75q2</th>\n      <th>rrtaxu</th>\n      <th>y-1</th>\n      <th>y-2</th>\n      <th>y-3</th>\n      <th>y-4</th>\n      <th>t-1</th>\n      <th>t-2</th>\n      <th>t-3</th>\n      <th>t-4</th>\n      <th>g-1</th>\n      <th>g-2</th>\n      <th>g-3</th>\n      <th>g-4</th>\n    </tr>\n    <tr>\n      <th>date</th>\n      <th></th>\n      <th></th>\n      <th></th>\n      <th></th>\n      <th></th>\n      <th></th>\n      <th></th>\n      <th></th>\n      <th></th>\n      <th></th>\n      <th></th>\n      <th></th>\n      <th></th>\n      <th></th>\n      <th></th>\n      <th></th>\n      <th></th>\n      <th></th>\n      <th></th>\n      <th></th>\n    </tr>\n  </thead>\n  <tbody>\n    <tr>\n      <th>1950-01-01</th>\n      <td>1950-01-01</td>\n      <td>-428.265747</td>\n      <td>-1081.332153</td>\n      <td>-1117.348755</td>\n      <td>1</td>\n      <td>1</td>\n      <td>0</td>\n      <td>0.0</td>\n      <td>NaN</td>\n      <td>NaN</td>\n      <td>NaN</td>\n      <td>NaN</td>\n      <td>NaN</td>\n      <td>NaN</td>\n      <td>NaN</td>\n      <td>NaN</td>\n      <td>NaN</td>\n      <td>NaN</td>\n      <td>NaN</td>\n      <td>NaN</td>\n    </tr>\n    <tr>\n      <th>1950-04-01</th>\n      <td>1950-04-01</td>\n      <td>-425.807556</td>\n      <td>-1072.665527</td>\n      <td>-1116.824219</td>\n      <td>2</td>\n      <td>4</td>\n      <td>0</td>\n      <td>0.0</td>\n      <td>-428.265747</td>\n      <td>NaN</td>\n      <td>NaN</td>\n      <td>NaN</td>\n      <td>-1081.332153</td>\n      <td>NaN</td>\n      <td>NaN</td>\n      <td>NaN</td>\n      <td>-1117.348755</td>\n      <td>NaN</td>\n      <td>NaN</td>\n      <td>NaN</td>\n    </tr>\n    <tr>\n      <th>1950-07-01</th>\n      <td>1950-07-01</td>\n      <td>-422.493561</td>\n      <td>-1062.218994</td>\n      <td>-1121.543823</td>\n      <td>3</td>\n      <td>9</td>\n      <td>0</td>\n      <td>0.0</td>\n      <td>-425.807556</td>\n      <td>-428.265747</td>\n      <td>NaN</td>\n      <td>NaN</td>\n      <td>-1072.665527</td>\n      <td>-1081.332153</td>\n      <td>NaN</td>\n      <td>NaN</td>\n      <td>-1116.824219</td>\n      <td>-1117.348755</td>\n      <td>NaN</td>\n      <td>NaN</td>\n    </tr>\n    <tr>\n      <th>1950-10-01</th>\n      <td>1950-10-01</td>\n      <td>-421.014496</td>\n      <td>-1055.743774</td>\n      <td>-1112.510742</td>\n      <td>4</td>\n      <td>16</td>\n      <td>0</td>\n      <td>0.0</td>\n      <td>-422.493561</td>\n      <td>-425.807556</td>\n      <td>-428.265747</td>\n      <td>NaN</td>\n      <td>-1062.218994</td>\n      <td>-1072.665527</td>\n      <td>-1081.332153</td>\n      <td>NaN</td>\n      <td>-1121.543823</td>\n      <td>-1116.824219</td>\n      <td>-1117.348755</td>\n      <td>NaN</td>\n    </tr>\n    <tr>\n      <th>1951-01-01</th>\n      <td>1951-01-01</td>\n      <td>-420.063110</td>\n      <td>-1046.365845</td>\n      <td>-1094.527344</td>\n      <td>5</td>\n      <td>25</td>\n      <td>0</td>\n      <td>0.0</td>\n      <td>-421.014496</td>\n      <td>-422.493561</td>\n      <td>-425.807556</td>\n      <td>-428.265747</td>\n      <td>-1055.743774</td>\n      <td>-1062.218994</td>\n      <td>-1072.665527</td>\n      <td>-1081.332153</td>\n      <td>-1112.510742</td>\n      <td>-1121.543823</td>\n      <td>-1116.824219</td>\n      <td>-1117.348755</td>\n    </tr>\n  </tbody>\n</table>\n</div>",
      "text/plain": "                 date           y            t            g  trend  trend2  \\\ndate                                                                         \n1950-01-01 1950-01-01 -428.265747 -1081.332153 -1117.348755      1       1   \n1950-04-01 1950-04-01 -425.807556 -1072.665527 -1116.824219      2       4   \n1950-07-01 1950-07-01 -422.493561 -1062.218994 -1121.543823      3       9   \n1950-10-01 1950-10-01 -421.014496 -1055.743774 -1112.510742      4      16   \n1951-01-01 1951-01-01 -420.063110 -1046.365845 -1094.527344      5      25   \n\n            dum75q2  rrtaxu         y-1         y-2         y-3         y-4  \\\ndate                                                                          \n1950-01-01        0     0.0         NaN         NaN         NaN         NaN   \n1950-04-01        0     0.0 -428.265747         NaN         NaN         NaN   \n1950-07-01        0     0.0 -425.807556 -428.265747         NaN         NaN   \n1950-10-01        0     0.0 -422.493561 -425.807556 -428.265747         NaN   \n1951-01-01        0     0.0 -421.014496 -422.493561 -425.807556 -428.265747   \n\n                    t-1          t-2          t-3          t-4          g-1  \\\ndate                                                                          \n1950-01-01          NaN          NaN          NaN          NaN          NaN   \n1950-04-01 -1081.332153          NaN          NaN          NaN -1117.348755   \n1950-07-01 -1072.665527 -1081.332153          NaN          NaN -1116.824219   \n1950-10-01 -1062.218994 -1072.665527 -1081.332153          NaN -1121.543823   \n1951-01-01 -1055.743774 -1062.218994 -1072.665527 -1081.332153 -1112.510742   \n\n                    g-2          g-3          g-4  \ndate                                               \n1950-01-01          NaN          NaN          NaN  \n1950-04-01          NaN          NaN          NaN  \n1950-07-01 -1117.348755          NaN          NaN  \n1950-10-01 -1116.824219 -1117.348755          NaN  \n1951-01-01 -1121.543823 -1116.824219 -1117.348755  "
     },
     "execution_count": 20,
     "metadata": {},
     "output_type": "execute_result"
    }
   ],
   "source": [
    "df.head()"
   ]
  },
  {
   "cell_type": "code",
   "execution_count": 21,
   "metadata": {},
   "outputs": [],
   "source": [
    "df = df.dropna(axis = 0)"
   ]
  },
  {
   "cell_type": "code",
   "execution_count": 22,
   "metadata": {},
   "outputs": [],
   "source": [
    "import statsmodels.api as sm # for OLS\n",
    "\n",
    "X = df[['y-1', 'y-2', 'y-3','y-4', 'g-1', 'g-2', 'g-3','g-4','t-1', 't-2', 't-3','t-4']]\n",
    "X = sm.add_constant(X)\n",
    "estimates = {}\n",
    "for variable in variables:\n",
    "    estimates[str(variable)] = sm.OLS(df[str(variable)],X).fit()\n",
    "    df['e_' + str(variable)] =  estimates[str(variable)].resid"
   ]
  },
  {
   "cell_type": "markdown",
   "metadata": {},
   "source": [
    "Here I construct the residuals from the timing assumption of the VAR "
   ]
  },
  {
   "cell_type": "code",
   "execution_count": 23,
   "metadata": {},
   "outputs": [
    {
     "data": {
      "text/html": "<table class=\"simpletable\">\n<caption>OLS Regression Results</caption>\n<tr>\n  <th>Dep. Variable:</th>           <td>e_y</td>       <th>  R-squared:         </th> <td>   0.240</td>\n</tr>\n<tr>\n  <th>Model:</th>                   <td>OLS</td>       <th>  Adj. R-squared:    </th> <td>   0.234</td>\n</tr>\n<tr>\n  <th>Method:</th>             <td>Least Squares</td>  <th>  F-statistic:       </th> <td>   35.58</td>\n</tr>\n<tr>\n  <th>Date:</th>             <td>Fri, 28 Feb 2020</td> <th>  Prob (F-statistic):</th> <td>3.76e-14</td>\n</tr>\n<tr>\n  <th>Time:</th>                 <td>22:29:46</td>     <th>  Log-Likelihood:    </th> <td> -247.21</td>\n</tr>\n<tr>\n  <th>No. Observations:</th>      <td>   228</td>      <th>  AIC:               </th> <td>   500.4</td>\n</tr>\n<tr>\n  <th>Df Residuals:</th>          <td>   225</td>      <th>  BIC:               </th> <td>   510.7</td>\n</tr>\n<tr>\n  <th>Df Model:</th>              <td>     2</td>      <th>                     </th>     <td> </td>   \n</tr>\n<tr>\n  <th>Covariance Type:</th>      <td>nonrobust</td>    <th>                     </th>     <td> </td>   \n</tr>\n</table>\n<table class=\"simpletable\">\n<tr>\n    <td></td>       <th>coef</th>     <th>std err</th>      <th>t</th>      <th>P>|t|</th>  <th>[0.025</th>    <th>0.975]</th>  \n</tr>\n<tr>\n  <th>const</th> <td>-4.911e-12</td> <td>    0.048</td> <td>-1.03e-10</td> <td> 1.000</td> <td>   -0.094</td> <td>    0.094</td>\n</tr>\n<tr>\n  <th>e_g</th>   <td>    0.0653</td> <td>    0.023</td> <td>    2.853</td> <td> 0.005</td> <td>    0.020</td> <td>    0.110</td>\n</tr>\n<tr>\n  <th>e_t</th>   <td>    0.1387</td> <td>    0.018</td> <td>    7.699</td> <td> 0.000</td> <td>    0.103</td> <td>    0.174</td>\n</tr>\n</table>\n<table class=\"simpletable\">\n<tr>\n  <th>Omnibus:</th>       <td>10.188</td> <th>  Durbin-Watson:     </th> <td>   2.046</td>\n</tr>\n<tr>\n  <th>Prob(Omnibus):</th> <td> 0.006</td> <th>  Jarque-Bera (JB):  </th> <td>  21.296</td>\n</tr>\n<tr>\n  <th>Skew:</th>          <td> 0.057</td> <th>  Prob(JB):          </th> <td>2.38e-05</td>\n</tr>\n<tr>\n  <th>Kurtosis:</th>      <td> 4.493</td> <th>  Cond. No.          </th> <td>    2.67</td>\n</tr>\n</table><br/><br/>Warnings:<br/>[1] Standard Errors assume that the covariance matrix of the errors is correctly specified.",
      "text/plain": "<class 'statsmodels.iolib.summary.Summary'>\n\"\"\"\n                            OLS Regression Results                            \n==============================================================================\nDep. Variable:                    e_y   R-squared:                       0.240\nModel:                            OLS   Adj. R-squared:                  0.234\nMethod:                 Least Squares   F-statistic:                     35.58\nDate:                Fri, 28 Feb 2020   Prob (F-statistic):           3.76e-14\nTime:                        22:29:46   Log-Likelihood:                -247.21\nNo. Observations:                 228   AIC:                             500.4\nDf Residuals:                     225   BIC:                             510.7\nDf Model:                           2                                         \nCovariance Type:            nonrobust                                         \n==============================================================================\n                 coef    std err          t      P>|t|      [0.025      0.975]\n------------------------------------------------------------------------------\nconst      -4.911e-12      0.048  -1.03e-10      1.000      -0.094       0.094\ne_g            0.0653      0.023      2.853      0.005       0.020       0.110\ne_t            0.1387      0.018      7.699      0.000       0.103       0.174\n==============================================================================\nOmnibus:                       10.188   Durbin-Watson:                   2.046\nProb(Omnibus):                  0.006   Jarque-Bera (JB):               21.296\nSkew:                           0.057   Prob(JB):                     2.38e-05\nKurtosis:                       4.493   Cond. No.                         2.67\n==============================================================================\n\nWarnings:\n[1] Standard Errors assume that the covariance matrix of the errors is correctly specified.\n\"\"\""
     },
     "execution_count": 23,
     "metadata": {},
     "output_type": "execute_result"
    }
   ],
   "source": [
    "df['res'] = df['e_t'] - 2.08* df['e_g']\n",
    "X = df[['e_g', 'e_t']]\n",
    "X = sm.add_constant(X)\n",
    "reg1 = sm.OLS(df['e_y'] ,X).fit()\n",
    "reg1predict = reg1.fittedvalues\n",
    "reg1.summary()"
   ]
  },
  {
   "cell_type": "code",
   "execution_count": 24,
   "metadata": {},
   "outputs": [
    {
     "data": {
      "text/html": "<table class=\"simpletable\">\n<caption>OLS Regression Results</caption>\n<tr>\n  <th>Dep. Variable:</th>           <td>e_t</td>       <th>  R-squared:         </th>  <td>   1.000</td> \n</tr>\n<tr>\n  <th>Model:</th>                   <td>OLS</td>       <th>  Adj. R-squared:    </th>  <td>   1.000</td> \n</tr>\n<tr>\n  <th>Method:</th>             <td>Least Squares</td>  <th>  F-statistic:       </th>  <td>1.620e+32</td>\n</tr>\n<tr>\n  <th>Date:</th>             <td>Fri, 28 Feb 2020</td> <th>  Prob (F-statistic):</th>   <td>  0.00</td>  \n</tr>\n<tr>\n  <th>Time:</th>                 <td>22:29:46</td>     <th>  Log-Likelihood:    </th>  <td>  7370.1</td> \n</tr>\n<tr>\n  <th>No. Observations:</th>      <td>   228</td>      <th>  AIC:               </th> <td>-1.473e+04</td>\n</tr>\n<tr>\n  <th>Df Residuals:</th>          <td>   225</td>      <th>  BIC:               </th> <td>-1.472e+04</td>\n</tr>\n<tr>\n  <th>Df Model:</th>              <td>     2</td>      <th>                     </th>      <td> </td>    \n</tr>\n<tr>\n  <th>Covariance Type:</th>      <td>nonrobust</td>    <th>                     </th>      <td> </td>    \n</tr>\n</table>\n<table class=\"simpletable\">\n<tr>\n    <td></td>       <th>coef</th>     <th>std err</th>      <th>t</th>      <th>P>|t|</th>  <th>[0.025</th>    <th>0.975]</th>  \n</tr>\n<tr>\n  <th>const</th> <td>-9.714e-17</td> <td> 1.48e-16</td> <td>   -0.658</td> <td> 0.511</td> <td>-3.88e-16</td> <td> 1.94e-16</td>\n</tr>\n<tr>\n  <th>e_g</th>   <td>    2.0800</td> <td> 1.31e-16</td> <td> 1.59e+16</td> <td> 0.000</td> <td>    2.080</td> <td>    2.080</td>\n</tr>\n<tr>\n  <th>res</th>   <td>    1.0000</td> <td> 5.57e-17</td> <td> 1.79e+16</td> <td> 0.000</td> <td>    1.000</td> <td>    1.000</td>\n</tr>\n</table>\n<table class=\"simpletable\">\n<tr>\n  <th>Omnibus:</th>       <td>14.467</td> <th>  Durbin-Watson:     </th> <td>   2.047</td>\n</tr>\n<tr>\n  <th>Prob(Omnibus):</th> <td> 0.001</td> <th>  Jarque-Bera (JB):  </th> <td>  40.245</td>\n</tr>\n<tr>\n  <th>Skew:</th>          <td> 0.003</td> <th>  Prob(JB):          </th> <td>1.82e-09</td>\n</tr>\n<tr>\n  <th>Kurtosis:</th>      <td> 5.058</td> <th>  Cond. No.          </th> <td>    5.24</td>\n</tr>\n</table><br/><br/>Warnings:<br/>[1] Standard Errors assume that the covariance matrix of the errors is correctly specified.",
      "text/plain": "<class 'statsmodels.iolib.summary.Summary'>\n\"\"\"\n                            OLS Regression Results                            \n==============================================================================\nDep. Variable:                    e_t   R-squared:                       1.000\nModel:                            OLS   Adj. R-squared:                  1.000\nMethod:                 Least Squares   F-statistic:                 1.620e+32\nDate:                Fri, 28 Feb 2020   Prob (F-statistic):               0.00\nTime:                        22:29:46   Log-Likelihood:                 7370.1\nNo. Observations:                 228   AIC:                        -1.473e+04\nDf Residuals:                     225   BIC:                        -1.472e+04\nDf Model:                           2                                         \nCovariance Type:            nonrobust                                         \n==============================================================================\n                 coef    std err          t      P>|t|      [0.025      0.975]\n------------------------------------------------------------------------------\nconst      -9.714e-17   1.48e-16     -0.658      0.511   -3.88e-16    1.94e-16\ne_g            2.0800   1.31e-16   1.59e+16      0.000       2.080       2.080\nres            1.0000   5.57e-17   1.79e+16      0.000       1.000       1.000\n==============================================================================\nOmnibus:                       14.467   Durbin-Watson:                   2.047\nProb(Omnibus):                  0.001   Jarque-Bera (JB):               40.245\nSkew:                           0.003   Prob(JB):                     1.82e-09\nKurtosis:                       5.058   Cond. No.                         5.24\n==============================================================================\n\nWarnings:\n[1] Standard Errors assume that the covariance matrix of the errors is correctly specified.\n\"\"\""
     },
     "execution_count": 24,
     "metadata": {},
     "output_type": "execute_result"
    }
   ],
   "source": [
    "df['res'] = df['e_t'] - 2.08* df['e_g']\n",
    "X = df[['e_g', 'res']]\n",
    "X = sm.add_constant(X)\n",
    "firststage1 = sm.OLS(df['e_t'] ,X).fit()\n",
    "df['fs1'] = firststage1.fittedvalues\n",
    "firststage1.summary()\n"
   ]
  },
  {
   "cell_type": "code",
   "execution_count": 25,
   "metadata": {},
   "outputs": [
    {
     "data": {
      "text/html": "<table class=\"simpletable\">\n<caption>OLS Regression Results</caption>\n<tr>\n  <th>Dep. Variable:</th>           <td>e_y</td>       <th>  R-squared:         </th> <td>   0.240</td>\n</tr>\n<tr>\n  <th>Model:</th>                   <td>OLS</td>       <th>  Adj. R-squared:    </th> <td>   0.234</td>\n</tr>\n<tr>\n  <th>Method:</th>             <td>Least Squares</td>  <th>  F-statistic:       </th> <td>   35.58</td>\n</tr>\n<tr>\n  <th>Date:</th>             <td>Fri, 28 Feb 2020</td> <th>  Prob (F-statistic):</th> <td>3.76e-14</td>\n</tr>\n<tr>\n  <th>Time:</th>                 <td>22:29:46</td>     <th>  Log-Likelihood:    </th> <td> -247.21</td>\n</tr>\n<tr>\n  <th>No. Observations:</th>      <td>   228</td>      <th>  AIC:               </th> <td>   500.4</td>\n</tr>\n<tr>\n  <th>Df Residuals:</th>          <td>   225</td>      <th>  BIC:               </th> <td>   510.7</td>\n</tr>\n<tr>\n  <th>Df Model:</th>              <td>     2</td>      <th>                     </th>     <td> </td>   \n</tr>\n<tr>\n  <th>Covariance Type:</th>      <td>nonrobust</td>    <th>                     </th>     <td> </td>   \n</tr>\n</table>\n<table class=\"simpletable\">\n<tr>\n    <td></td>       <th>coef</th>     <th>std err</th>      <th>t</th>      <th>P>|t|</th>  <th>[0.025</th>    <th>0.975]</th>  \n</tr>\n<tr>\n  <th>const</th> <td>-4.911e-12</td> <td>    0.048</td> <td>-1.03e-10</td> <td> 1.000</td> <td>   -0.094</td> <td>    0.094</td>\n</tr>\n<tr>\n  <th>fs1</th>   <td>    0.1387</td> <td>    0.018</td> <td>    7.699</td> <td> 0.000</td> <td>    0.103</td> <td>    0.174</td>\n</tr>\n<tr>\n  <th>e_g</th>   <td>    0.0653</td> <td>    0.023</td> <td>    2.853</td> <td> 0.005</td> <td>    0.020</td> <td>    0.110</td>\n</tr>\n</table>\n<table class=\"simpletable\">\n<tr>\n  <th>Omnibus:</th>       <td>10.188</td> <th>  Durbin-Watson:     </th> <td>   2.046</td>\n</tr>\n<tr>\n  <th>Prob(Omnibus):</th> <td> 0.006</td> <th>  Jarque-Bera (JB):  </th> <td>  21.296</td>\n</tr>\n<tr>\n  <th>Skew:</th>          <td> 0.057</td> <th>  Prob(JB):          </th> <td>2.38e-05</td>\n</tr>\n<tr>\n  <th>Kurtosis:</th>      <td> 4.493</td> <th>  Cond. No.          </th> <td>    2.67</td>\n</tr>\n</table><br/><br/>Warnings:<br/>[1] Standard Errors assume that the covariance matrix of the errors is correctly specified.",
      "text/plain": "<class 'statsmodels.iolib.summary.Summary'>\n\"\"\"\n                            OLS Regression Results                            \n==============================================================================\nDep. Variable:                    e_y   R-squared:                       0.240\nModel:                            OLS   Adj. R-squared:                  0.234\nMethod:                 Least Squares   F-statistic:                     35.58\nDate:                Fri, 28 Feb 2020   Prob (F-statistic):           3.76e-14\nTime:                        22:29:46   Log-Likelihood:                -247.21\nNo. Observations:                 228   AIC:                             500.4\nDf Residuals:                     225   BIC:                             510.7\nDf Model:                           2                                         \nCovariance Type:            nonrobust                                         \n==============================================================================\n                 coef    std err          t      P>|t|      [0.025      0.975]\n------------------------------------------------------------------------------\nconst      -4.911e-12      0.048  -1.03e-10      1.000      -0.094       0.094\nfs1            0.1387      0.018      7.699      0.000       0.103       0.174\ne_g            0.0653      0.023      2.853      0.005       0.020       0.110\n==============================================================================\nOmnibus:                       10.188   Durbin-Watson:                   2.046\nProb(Omnibus):                  0.006   Jarque-Bera (JB):               21.296\nSkew:                           0.057   Prob(JB):                     2.38e-05\nKurtosis:                       4.493   Cond. No.                         2.67\n==============================================================================\n\nWarnings:\n[1] Standard Errors assume that the covariance matrix of the errors is correctly specified.\n\"\"\""
     },
     "execution_count": 25,
     "metadata": {},
     "output_type": "execute_result"
    }
   ],
   "source": [
    "## looks like by the f-stat it is a strong instrument\n",
    "\n",
    "X = df[['fs1','e_g']]\n",
    "X = sm.add_constant(X)\n",
    "secondstage1 = sm.OLS(df['e_y'] ,X).fit()\n",
    "secondstage1.summary()"
   ]
  },
  {
   "cell_type": "code",
   "execution_count": 26,
   "metadata": {},
   "outputs": [
    {
     "data": {
      "text/html": "<table class=\"simpletable\">\n<caption>OLS Regression Results</caption>\n<tr>\n  <th>Dep. Variable:</th>            <td>y</td>        <th>  R-squared:         </th> <td>   1.000</td> \n</tr>\n<tr>\n  <th>Model:</th>                   <td>OLS</td>       <th>  Adj. R-squared:    </th> <td>   1.000</td> \n</tr>\n<tr>\n  <th>Method:</th>             <td>Least Squares</td>  <th>  F-statistic:       </th> <td>3.851e+04</td>\n</tr>\n<tr>\n  <th>Date:</th>             <td>Fri, 28 Feb 2020</td> <th>  Prob (F-statistic):</th>  <td>  0.00</td>  \n</tr>\n<tr>\n  <th>Time:</th>                 <td>22:29:46</td>     <th>  Log-Likelihood:    </th> <td> -247.21</td> \n</tr>\n<tr>\n  <th>No. Observations:</th>      <td>   228</td>      <th>  AIC:               </th> <td>   524.4</td> \n</tr>\n<tr>\n  <th>Df Residuals:</th>          <td>   213</td>      <th>  BIC:               </th> <td>   575.9</td> \n</tr>\n<tr>\n  <th>Df Model:</th>              <td>    14</td>      <th>                     </th>     <td> </td>    \n</tr>\n<tr>\n  <th>Covariance Type:</th>      <td>nonrobust</td>    <th>                     </th>     <td> </td>    \n</tr>\n</table>\n<table class=\"simpletable\">\n<tr>\n    <td></td>       <th>coef</th>     <th>std err</th>      <th>t</th>      <th>P>|t|</th>  <th>[0.025</th>    <th>0.975]</th>  \n</tr>\n<tr>\n  <th>const</th> <td>   -3.6188</td> <td>   11.204</td> <td>   -0.323</td> <td> 0.747</td> <td>  -25.704</td> <td>   18.466</td>\n</tr>\n<tr>\n  <th>g</th>     <td>    0.0653</td> <td>    0.024</td> <td>    2.776</td> <td> 0.006</td> <td>    0.019</td> <td>    0.112</td>\n</tr>\n<tr>\n  <th>t</th>     <td>    0.1387</td> <td>    0.019</td> <td>    7.491</td> <td> 0.000</td> <td>    0.102</td> <td>    0.175</td>\n</tr>\n<tr>\n  <th>y-1</th>   <td>    1.1515</td> <td>    0.070</td> <td>   16.487</td> <td> 0.000</td> <td>    1.014</td> <td>    1.289</td>\n</tr>\n<tr>\n  <th>y-2</th>   <td>   -0.1397</td> <td>    0.103</td> <td>   -1.352</td> <td> 0.178</td> <td>   -0.343</td> <td>    0.064</td>\n</tr>\n<tr>\n  <th>y-3</th>   <td>   -0.0101</td> <td>    0.102</td> <td>   -0.099</td> <td> 0.921</td> <td>   -0.211</td> <td>    0.191</td>\n</tr>\n<tr>\n  <th>y-4</th>   <td>    0.0067</td> <td>    0.069</td> <td>    0.096</td> <td> 0.923</td> <td>   -0.130</td> <td>    0.143</td>\n</tr>\n<tr>\n  <th>g-1</th>   <td>   -0.0949</td> <td>    0.037</td> <td>   -2.593</td> <td> 0.010</td> <td>   -0.167</td> <td>   -0.023</td>\n</tr>\n<tr>\n  <th>g-2</th>   <td>    0.0779</td> <td>    0.036</td> <td>    2.180</td> <td> 0.030</td> <td>    0.007</td> <td>    0.148</td>\n</tr>\n<tr>\n  <th>g-3</th>   <td>   -0.0892</td> <td>    0.035</td> <td>   -2.538</td> <td> 0.012</td> <td>   -0.159</td> <td>   -0.020</td>\n</tr>\n<tr>\n  <th>g-4</th>   <td>    0.0430</td> <td>    0.022</td> <td>    1.978</td> <td> 0.049</td> <td>    0.000</td> <td>    0.086</td>\n</tr>\n<tr>\n  <th>t-1</th>   <td>   -0.1034</td> <td>    0.024</td> <td>   -4.249</td> <td> 0.000</td> <td>   -0.151</td> <td>   -0.055</td>\n</tr>\n<tr>\n  <th>t-2</th>   <td>   -0.0444</td> <td>    0.025</td> <td>   -1.764</td> <td> 0.079</td> <td>   -0.094</td> <td>    0.005</td>\n</tr>\n<tr>\n  <th>t-3</th>   <td>   -0.0381</td> <td>    0.025</td> <td>   -1.522</td> <td> 0.130</td> <td>   -0.087</td> <td>    0.011</td>\n</tr>\n<tr>\n  <th>t-4</th>   <td>    0.0380</td> <td>    0.020</td> <td>    1.867</td> <td> 0.063</td> <td>   -0.002</td> <td>    0.078</td>\n</tr>\n</table>\n<table class=\"simpletable\">\n<tr>\n  <th>Omnibus:</th>       <td>10.188</td> <th>  Durbin-Watson:     </th> <td>   2.046</td>\n</tr>\n<tr>\n  <th>Prob(Omnibus):</th> <td> 0.006</td> <th>  Jarque-Bera (JB):  </th> <td>  21.296</td>\n</tr>\n<tr>\n  <th>Skew:</th>          <td> 0.057</td> <th>  Prob(JB):          </th> <td>2.38e-05</td>\n</tr>\n<tr>\n  <th>Kurtosis:</th>      <td> 4.493</td> <th>  Cond. No.          </th> <td>7.58e+05</td>\n</tr>\n</table><br/><br/>Warnings:<br/>[1] Standard Errors assume that the covariance matrix of the errors is correctly specified.<br/>[2] The condition number is large, 7.58e+05. This might indicate that there are<br/>strong multicollinearity or other numerical problems.",
      "text/plain": "<class 'statsmodels.iolib.summary.Summary'>\n\"\"\"\n                            OLS Regression Results                            \n==============================================================================\nDep. Variable:                      y   R-squared:                       1.000\nModel:                            OLS   Adj. R-squared:                  1.000\nMethod:                 Least Squares   F-statistic:                 3.851e+04\nDate:                Fri, 28 Feb 2020   Prob (F-statistic):               0.00\nTime:                        22:29:46   Log-Likelihood:                -247.21\nNo. Observations:                 228   AIC:                             524.4\nDf Residuals:                     213   BIC:                             575.9\nDf Model:                          14                                         \nCovariance Type:            nonrobust                                         \n==============================================================================\n                 coef    std err          t      P>|t|      [0.025      0.975]\n------------------------------------------------------------------------------\nconst         -3.6188     11.204     -0.323      0.747     -25.704      18.466\ng              0.0653      0.024      2.776      0.006       0.019       0.112\nt              0.1387      0.019      7.491      0.000       0.102       0.175\ny-1            1.1515      0.070     16.487      0.000       1.014       1.289\ny-2           -0.1397      0.103     -1.352      0.178      -0.343       0.064\ny-3           -0.0101      0.102     -0.099      0.921      -0.211       0.191\ny-4            0.0067      0.069      0.096      0.923      -0.130       0.143\ng-1           -0.0949      0.037     -2.593      0.010      -0.167      -0.023\ng-2            0.0779      0.036      2.180      0.030       0.007       0.148\ng-3           -0.0892      0.035     -2.538      0.012      -0.159      -0.020\ng-4            0.0430      0.022      1.978      0.049       0.000       0.086\nt-1           -0.1034      0.024     -4.249      0.000      -0.151      -0.055\nt-2           -0.0444      0.025     -1.764      0.079      -0.094       0.005\nt-3           -0.0381      0.025     -1.522      0.130      -0.087       0.011\nt-4            0.0380      0.020      1.867      0.063      -0.002       0.078\n==============================================================================\nOmnibus:                       10.188   Durbin-Watson:                   2.046\nProb(Omnibus):                  0.006   Jarque-Bera (JB):               21.296\nSkew:                           0.057   Prob(JB):                     2.38e-05\nKurtosis:                       4.493   Cond. No.                     7.58e+05\n==============================================================================\n\nWarnings:\n[1] Standard Errors assume that the covariance matrix of the errors is correctly specified.\n[2] The condition number is large, 7.58e+05. This might indicate that there are\nstrong multicollinearity or other numerical problems.\n\"\"\""
     },
     "execution_count": 26,
     "metadata": {},
     "output_type": "execute_result"
    }
   ],
   "source": [
    "\n",
    "X = df[['g','t','y-1', 'y-2', 'y-3','y-4', 'g-1', 'g-2', 'g-3','g-4','t-1', 't-2', 't-3','t-4']]\n",
    "X = sm.add_constant(X)\n",
    "reg2 = sm.OLS(df['y'],X).fit()\n",
    "reg2.summary()\n",
    "## Note how this is the same as the residual regression for the point estimates on t and g. \n"
   ]
  },
  {
   "cell_type": "code",
   "execution_count": 27,
   "metadata": {},
   "outputs": [
    {
     "data": {
      "text/html": "<table class=\"simpletable\">\n<caption>OLS Regression Results</caption>\n<tr>\n  <th>Dep. Variable:</th>            <td>t</td>        <th>  R-squared:         </th>  <td>   1.000</td> \n</tr>\n<tr>\n  <th>Model:</th>                   <td>OLS</td>       <th>  Adj. R-squared:    </th>  <td>   1.000</td> \n</tr>\n<tr>\n  <th>Method:</th>             <td>Least Squares</td>  <th>  F-statistic:       </th>  <td>1.313e+25</td>\n</tr>\n<tr>\n  <th>Date:</th>             <td>Fri, 28 Feb 2020</td> <th>  Prob (F-statistic):</th>   <td>  0.00</td>  \n</tr>\n<tr>\n  <th>Time:</th>                 <td>22:29:46</td>     <th>  Log-Likelihood:    </th>  <td>  5129.6</td> \n</tr>\n<tr>\n  <th>No. Observations:</th>      <td>   228</td>      <th>  AIC:               </th> <td>-1.023e+04</td>\n</tr>\n<tr>\n  <th>Df Residuals:</th>          <td>   213</td>      <th>  BIC:               </th> <td>-1.018e+04</td>\n</tr>\n<tr>\n  <th>Df Model:</th>              <td>    14</td>      <th>                     </th>      <td> </td>    \n</tr>\n<tr>\n  <th>Covariance Type:</th>      <td>nonrobust</td>    <th>                     </th>      <td> </td>    \n</tr>\n</table>\n<table class=\"simpletable\">\n<tr>\n    <td></td>       <th>coef</th>     <th>std err</th>      <th>t</th>      <th>P>|t|</th>  <th>[0.025</th>    <th>0.975]</th>  \n</tr>\n<tr>\n  <th>const</th> <td>  132.1302</td> <td> 6.91e-10</td> <td> 1.91e+11</td> <td> 0.000</td> <td>  132.130</td> <td>  132.130</td>\n</tr>\n<tr>\n  <th>g</th>     <td>    2.0800</td> <td>  2.5e-12</td> <td> 8.33e+11</td> <td> 0.000</td> <td>    2.080</td> <td>    2.080</td>\n</tr>\n<tr>\n  <th>res</th>   <td>    1.0000</td> <td> 1.06e-12</td> <td> 9.42e+11</td> <td> 0.000</td> <td>    1.000</td> <td>    1.000</td>\n</tr>\n<tr>\n  <th>y-1</th>   <td>    1.5037</td> <td> 3.86e-12</td> <td>  3.9e+11</td> <td> 0.000</td> <td>    1.504</td> <td>    1.504</td>\n</tr>\n<tr>\n  <th>y-2</th>   <td>   -1.1029</td> <td> 5.89e-12</td> <td>-1.87e+11</td> <td> 0.000</td> <td>   -1.103</td> <td>   -1.103</td>\n</tr>\n<tr>\n  <th>y-3</th>   <td>    0.2089</td> <td> 5.86e-12</td> <td> 3.57e+10</td> <td> 0.000</td> <td>    0.209</td> <td>    0.209</td>\n</tr>\n<tr>\n  <th>y-4</th>   <td>   -0.6155</td> <td>    4e-12</td> <td>-1.54e+11</td> <td> 0.000</td> <td>   -0.615</td> <td>   -0.615</td>\n</tr>\n<tr>\n  <th>g-1</th>   <td>   -2.6169</td> <td> 3.27e-12</td> <td>-8.01e+11</td> <td> 0.000</td> <td>   -2.617</td> <td>   -2.617</td>\n</tr>\n<tr>\n  <th>g-2</th>   <td>    0.3022</td> <td> 2.07e-12</td> <td> 1.46e+11</td> <td> 0.000</td> <td>    0.302</td> <td>    0.302</td>\n</tr>\n<tr>\n  <th>g-3</th>   <td>    0.1660</td> <td>    2e-12</td> <td>  8.3e+10</td> <td> 0.000</td> <td>    0.166</td> <td>    0.166</td>\n</tr>\n<tr>\n  <th>g-4</th>   <td>    0.2220</td> <td>  1.3e-12</td> <td> 1.71e+11</td> <td> 0.000</td> <td>    0.222</td> <td>    0.222</td>\n</tr>\n<tr>\n  <th>t-1</th>   <td>    0.5255</td> <td> 1.19e-12</td> <td> 4.41e+11</td> <td> 0.000</td> <td>    0.526</td> <td>    0.526</td>\n</tr>\n<tr>\n  <th>t-2</th>   <td>    0.2457</td> <td> 1.43e-12</td> <td> 1.72e+11</td> <td> 0.000</td> <td>    0.246</td> <td>    0.246</td>\n</tr>\n<tr>\n  <th>t-3</th>   <td>   -0.0429</td> <td> 1.43e-12</td> <td>-2.99e+10</td> <td> 0.000</td> <td>   -0.043</td> <td>   -0.043</td>\n</tr>\n<tr>\n  <th>t-4</th>   <td>    0.2458</td> <td> 1.19e-12</td> <td> 2.06e+11</td> <td> 0.000</td> <td>    0.246</td> <td>    0.246</td>\n</tr>\n</table>\n<table class=\"simpletable\">\n<tr>\n  <th>Omnibus:</th>       <td> 7.843</td> <th>  Durbin-Watson:     </th> <td>   0.000</td>\n</tr>\n<tr>\n  <th>Prob(Omnibus):</th> <td> 0.020</td> <th>  Jarque-Bera (JB):  </th> <td>   4.192</td>\n</tr>\n<tr>\n  <th>Skew:</th>          <td> 0.088</td> <th>  Prob(JB):          </th> <td>   0.123</td>\n</tr>\n<tr>\n  <th>Kurtosis:</th>      <td> 2.360</td> <th>  Cond. No.          </th> <td>7.77e+05</td>\n</tr>\n</table><br/><br/>Warnings:<br/>[1] Standard Errors assume that the covariance matrix of the errors is correctly specified.<br/>[2] The condition number is large, 7.77e+05. This might indicate that there are<br/>strong multicollinearity or other numerical problems.",
      "text/plain": "<class 'statsmodels.iolib.summary.Summary'>\n\"\"\"\n                            OLS Regression Results                            \n==============================================================================\nDep. Variable:                      t   R-squared:                       1.000\nModel:                            OLS   Adj. R-squared:                  1.000\nMethod:                 Least Squares   F-statistic:                 1.313e+25\nDate:                Fri, 28 Feb 2020   Prob (F-statistic):               0.00\nTime:                        22:29:46   Log-Likelihood:                 5129.6\nNo. Observations:                 228   AIC:                        -1.023e+04\nDf Residuals:                     213   BIC:                        -1.018e+04\nDf Model:                          14                                         \nCovariance Type:            nonrobust                                         \n==============================================================================\n                 coef    std err          t      P>|t|      [0.025      0.975]\n------------------------------------------------------------------------------\nconst        132.1302   6.91e-10   1.91e+11      0.000     132.130     132.130\ng              2.0800    2.5e-12   8.33e+11      0.000       2.080       2.080\nres            1.0000   1.06e-12   9.42e+11      0.000       1.000       1.000\ny-1            1.5037   3.86e-12    3.9e+11      0.000       1.504       1.504\ny-2           -1.1029   5.89e-12  -1.87e+11      0.000      -1.103      -1.103\ny-3            0.2089   5.86e-12   3.57e+10      0.000       0.209       0.209\ny-4           -0.6155      4e-12  -1.54e+11      0.000      -0.615      -0.615\ng-1           -2.6169   3.27e-12  -8.01e+11      0.000      -2.617      -2.617\ng-2            0.3022   2.07e-12   1.46e+11      0.000       0.302       0.302\ng-3            0.1660      2e-12    8.3e+10      0.000       0.166       0.166\ng-4            0.2220    1.3e-12   1.71e+11      0.000       0.222       0.222\nt-1            0.5255   1.19e-12   4.41e+11      0.000       0.526       0.526\nt-2            0.2457   1.43e-12   1.72e+11      0.000       0.246       0.246\nt-3           -0.0429   1.43e-12  -2.99e+10      0.000      -0.043      -0.043\nt-4            0.2458   1.19e-12   2.06e+11      0.000       0.246       0.246\n==============================================================================\nOmnibus:                        7.843   Durbin-Watson:                   0.000\nProb(Omnibus):                  0.020   Jarque-Bera (JB):                4.192\nSkew:                           0.088   Prob(JB):                        0.123\nKurtosis:                       2.360   Cond. No.                     7.77e+05\n==============================================================================\n\nWarnings:\n[1] Standard Errors assume that the covariance matrix of the errors is correctly specified.\n[2] The condition number is large, 7.77e+05. This might indicate that there are\nstrong multicollinearity or other numerical problems.\n\"\"\""
     },
     "execution_count": 27,
     "metadata": {},
     "output_type": "execute_result"
    }
   ],
   "source": [
    "X = df[['g','res','y-1', 'y-2', 'y-3','y-4', 'g-1', 'g-2', 'g-3','g-4','t-1', 't-2', 't-3','t-4']]\n",
    "X = sm.add_constant(X)\n",
    "firststage2 = sm.OLS(df['t'] ,X).fit()\n",
    "df['fs2'] = firststage2.fittedvalues\n",
    "firststage2.summary()\n"
   ]
  },
  {
   "cell_type": "code",
   "execution_count": 28,
   "metadata": {},
   "outputs": [
    {
     "data": {
      "text/html": "<table class=\"simpletable\">\n<caption>OLS Regression Results</caption>\n<tr>\n  <th>Dep. Variable:</th>            <td>y</td>        <th>  R-squared:         </th> <td>   1.000</td> \n</tr>\n<tr>\n  <th>Model:</th>                   <td>OLS</td>       <th>  Adj. R-squared:    </th> <td>   1.000</td> \n</tr>\n<tr>\n  <th>Method:</th>             <td>Least Squares</td>  <th>  F-statistic:       </th> <td>3.851e+04</td>\n</tr>\n<tr>\n  <th>Date:</th>             <td>Fri, 28 Feb 2020</td> <th>  Prob (F-statistic):</th>  <td>  0.00</td>  \n</tr>\n<tr>\n  <th>Time:</th>                 <td>22:29:46</td>     <th>  Log-Likelihood:    </th> <td> -247.21</td> \n</tr>\n<tr>\n  <th>No. Observations:</th>      <td>   228</td>      <th>  AIC:               </th> <td>   524.4</td> \n</tr>\n<tr>\n  <th>Df Residuals:</th>          <td>   213</td>      <th>  BIC:               </th> <td>   575.9</td> \n</tr>\n<tr>\n  <th>Df Model:</th>              <td>    14</td>      <th>                     </th>     <td> </td>    \n</tr>\n<tr>\n  <th>Covariance Type:</th>      <td>nonrobust</td>    <th>                     </th>     <td> </td>    \n</tr>\n</table>\n<table class=\"simpletable\">\n<tr>\n    <td></td>       <th>coef</th>     <th>std err</th>      <th>t</th>      <th>P>|t|</th>  <th>[0.025</th>    <th>0.975]</th>  \n</tr>\n<tr>\n  <th>const</th> <td>   -3.6188</td> <td>   11.204</td> <td>   -0.323</td> <td> 0.747</td> <td>  -25.704</td> <td>   18.466</td>\n</tr>\n<tr>\n  <th>fs2</th>   <td>    0.1387</td> <td>    0.019</td> <td>    7.491</td> <td> 0.000</td> <td>    0.102</td> <td>    0.175</td>\n</tr>\n<tr>\n  <th>g</th>     <td>    0.0653</td> <td>    0.024</td> <td>    2.776</td> <td> 0.006</td> <td>    0.019</td> <td>    0.112</td>\n</tr>\n<tr>\n  <th>y-1</th>   <td>    1.1515</td> <td>    0.070</td> <td>   16.487</td> <td> 0.000</td> <td>    1.014</td> <td>    1.289</td>\n</tr>\n<tr>\n  <th>y-2</th>   <td>   -0.1397</td> <td>    0.103</td> <td>   -1.352</td> <td> 0.178</td> <td>   -0.343</td> <td>    0.064</td>\n</tr>\n<tr>\n  <th>y-3</th>   <td>   -0.0101</td> <td>    0.102</td> <td>   -0.099</td> <td> 0.921</td> <td>   -0.211</td> <td>    0.191</td>\n</tr>\n<tr>\n  <th>y-4</th>   <td>    0.0067</td> <td>    0.069</td> <td>    0.096</td> <td> 0.923</td> <td>   -0.130</td> <td>    0.143</td>\n</tr>\n<tr>\n  <th>g-1</th>   <td>   -0.0949</td> <td>    0.037</td> <td>   -2.593</td> <td> 0.010</td> <td>   -0.167</td> <td>   -0.023</td>\n</tr>\n<tr>\n  <th>g-2</th>   <td>    0.0779</td> <td>    0.036</td> <td>    2.180</td> <td> 0.030</td> <td>    0.007</td> <td>    0.148</td>\n</tr>\n<tr>\n  <th>g-3</th>   <td>   -0.0892</td> <td>    0.035</td> <td>   -2.538</td> <td> 0.012</td> <td>   -0.159</td> <td>   -0.020</td>\n</tr>\n<tr>\n  <th>g-4</th>   <td>    0.0430</td> <td>    0.022</td> <td>    1.978</td> <td> 0.049</td> <td>    0.000</td> <td>    0.086</td>\n</tr>\n<tr>\n  <th>t-1</th>   <td>   -0.1034</td> <td>    0.024</td> <td>   -4.249</td> <td> 0.000</td> <td>   -0.151</td> <td>   -0.055</td>\n</tr>\n<tr>\n  <th>t-2</th>   <td>   -0.0444</td> <td>    0.025</td> <td>   -1.764</td> <td> 0.079</td> <td>   -0.094</td> <td>    0.005</td>\n</tr>\n<tr>\n  <th>t-3</th>   <td>   -0.0381</td> <td>    0.025</td> <td>   -1.522</td> <td> 0.130</td> <td>   -0.087</td> <td>    0.011</td>\n</tr>\n<tr>\n  <th>t-4</th>   <td>    0.0380</td> <td>    0.020</td> <td>    1.867</td> <td> 0.063</td> <td>   -0.002</td> <td>    0.078</td>\n</tr>\n</table>\n<table class=\"simpletable\">\n<tr>\n  <th>Omnibus:</th>       <td>10.188</td> <th>  Durbin-Watson:     </th> <td>   2.046</td>\n</tr>\n<tr>\n  <th>Prob(Omnibus):</th> <td> 0.006</td> <th>  Jarque-Bera (JB):  </th> <td>  21.296</td>\n</tr>\n<tr>\n  <th>Skew:</th>          <td> 0.057</td> <th>  Prob(JB):          </th> <td>2.38e-05</td>\n</tr>\n<tr>\n  <th>Kurtosis:</th>      <td> 4.493</td> <th>  Cond. No.          </th> <td>7.58e+05</td>\n</tr>\n</table><br/><br/>Warnings:<br/>[1] Standard Errors assume that the covariance matrix of the errors is correctly specified.<br/>[2] The condition number is large, 7.58e+05. This might indicate that there are<br/>strong multicollinearity or other numerical problems.",
      "text/plain": "<class 'statsmodels.iolib.summary.Summary'>\n\"\"\"\n                            OLS Regression Results                            \n==============================================================================\nDep. Variable:                      y   R-squared:                       1.000\nModel:                            OLS   Adj. R-squared:                  1.000\nMethod:                 Least Squares   F-statistic:                 3.851e+04\nDate:                Fri, 28 Feb 2020   Prob (F-statistic):               0.00\nTime:                        22:29:46   Log-Likelihood:                -247.21\nNo. Observations:                 228   AIC:                             524.4\nDf Residuals:                     213   BIC:                             575.9\nDf Model:                          14                                         \nCovariance Type:            nonrobust                                         \n==============================================================================\n                 coef    std err          t      P>|t|      [0.025      0.975]\n------------------------------------------------------------------------------\nconst         -3.6188     11.204     -0.323      0.747     -25.704      18.466\nfs2            0.1387      0.019      7.491      0.000       0.102       0.175\ng              0.0653      0.024      2.776      0.006       0.019       0.112\ny-1            1.1515      0.070     16.487      0.000       1.014       1.289\ny-2           -0.1397      0.103     -1.352      0.178      -0.343       0.064\ny-3           -0.0101      0.102     -0.099      0.921      -0.211       0.191\ny-4            0.0067      0.069      0.096      0.923      -0.130       0.143\ng-1           -0.0949      0.037     -2.593      0.010      -0.167      -0.023\ng-2            0.0779      0.036      2.180      0.030       0.007       0.148\ng-3           -0.0892      0.035     -2.538      0.012      -0.159      -0.020\ng-4            0.0430      0.022      1.978      0.049       0.000       0.086\nt-1           -0.1034      0.024     -4.249      0.000      -0.151      -0.055\nt-2           -0.0444      0.025     -1.764      0.079      -0.094       0.005\nt-3           -0.0381      0.025     -1.522      0.130      -0.087       0.011\nt-4            0.0380      0.020      1.867      0.063      -0.002       0.078\n==============================================================================\nOmnibus:                       10.188   Durbin-Watson:                   2.046\nProb(Omnibus):                  0.006   Jarque-Bera (JB):               21.296\nSkew:                           0.057   Prob(JB):                     2.38e-05\nKurtosis:                       4.493   Cond. No.                     7.58e+05\n==============================================================================\n\nWarnings:\n[1] Standard Errors assume that the covariance matrix of the errors is correctly specified.\n[2] The condition number is large, 7.58e+05. This might indicate that there are\nstrong multicollinearity or other numerical problems.\n\"\"\""
     },
     "execution_count": 28,
     "metadata": {},
     "output_type": "execute_result"
    }
   ],
   "source": [
    "X = df[['fs2','g','y-1', 'y-2', 'y-3','y-4', 'g-1', 'g-2', 'g-3','g-4','t-1', 't-2', 't-3','t-4']]\n",
    "X = sm.add_constant(X)\n",
    "secondstage2 = sm.OLS(df['y'],X).fit()\n",
    "secondstage2.summary()\n",
    "\n",
    "## Note they both match"
   ]
  },
  {
   "cell_type": "code",
   "execution_count": null,
   "metadata": {},
   "outputs": [],
   "source": []
  }
 ]
}